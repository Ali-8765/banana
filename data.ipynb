{
 "cells": [
  {
   "cell_type": "code",
   "execution_count": 39,
   "id": "56c95c90",
   "metadata": {},
   "outputs": [
    {
     "name": "stderr",
     "output_type": "stream",
     "text": [
      "/tmp/ipykernel_38823/434952207.py:5: DeprecationWarning: The 'unary_union' attribute is deprecated, use the 'union_all()' method instead.\n",
      "  aoi_geom  = Geometry(aoi_gdf.unary_union, CRS.WGS84)        # merge to one multipolygon\n"
     ]
    }
   ],
   "source": [
    "import geopandas as gpd\n",
    "from sentinelhub import Geometry, CRS\n",
    "\n",
    "aoi_gdf   = gpd.read_file(r\"anomalous fields/anomalous_fields_polygons.geojson\")          # GeoJSON in EPSG:4326\n",
    "aoi_geom  = Geometry(aoi_gdf.unary_union, CRS.WGS84)        # merge to one multipolygon\n",
    "field_gdf = aoi_gdf.assign(fid=aoi_gdf.index)               # keep per-field IDs\n"
   ]
  },
  {
   "cell_type": "code",
   "execution_count": 40,
   "id": "6c63f934",
   "metadata": {},
   "outputs": [],
   "source": [
    "import pandas as pd, datetime as dt\n",
    "start, end = dt.date(2023, 1, 1), dt.date(2023, 12, 31)\n",
    "weeks = pd.date_range(start, end, freq=\"7D\").date\n"
   ]
  },
  {
   "cell_type": "code",
   "execution_count": 41,
   "id": "4db2a461",
   "metadata": {},
   "outputs": [
    {
     "name": "stdout",
     "output_type": "stream",
     "text": [
      "Downloaded all bands for all weeks.\n"
     ]
    }
   ],
   "source": [
    "from sentinelhub import SentinelHubRequest, DataCollection, MosaickingOrder, bbox_to_dimensions, SHConfig\n",
    "from shapely.geometry import mapping\n",
    "\n",
    "config = SHConfig()\n",
    "config.instance_id = \"919df252-b78d-4f73-b3ea-388af21f9464\"\n",
    "config.sh_client_id = \"881396a0-464e-49f8-aef7-1f91b07ad08b\"\n",
    "config.sh_client_secret = \"biPULdIEQf6BfjkZ0oRXnwuiseCgsBui\"\n",
    "PIX_RES  = 10          # metres\n",
    "width, height = bbox_to_dimensions(aoi_geom.bbox, resolution=PIX_RES)\n",
    "\n",
    "client_responses_all_bands = []\n",
    "for w0, w1 in zip(weeks[:-1], weeks[1:]):\n",
    "    request = SentinelHubRequest(\n",
    "        evalscript=open(\"eval_script_all_bands.js\").read(),\n",
    "        input_data=[\n",
    "            SentinelHubRequest.input_data(\n",
    "                data_collection=DataCollection.SENTINEL2_L2A,\n",
    "                time_interval=(w0.isoformat(), w1.isoformat()),\n",
    "                mosaicking_order=MosaickingOrder.LEAST_CC,\n",
    "                maxcc=0.2\n",
    "            )\n",
    "        ],\n",
    "        responses=[\n",
    "            SentinelHubRequest.output_response(\"default\", response_format='tiff')\n",
    "        ],\n",
    "        geometry=aoi_geom,\n",
    "        size=(width, height),\n",
    "        config=config\n",
    "    )\n",
    "    client_responses_all_bands.append(request.get_data()[0])  # ndarray (H,W,13)\n",
    "print(\"Downloaded all bands for all weeks.\")\n"
   ]
  },
  {
   "cell_type": "code",
   "execution_count": 42,
   "id": "cf038f19",
   "metadata": {},
   "outputs": [],
   "source": [
    "import numpy as np, rasterio, pandas as pd\n",
    "from rasterio.transform import from_bounds\n",
    "\n",
    "records = []\n",
    "# Get bounding box coordinates\n",
    "minx, miny, maxx, maxy = aoi_geom.bbox\n",
    "# Use the same width and height as in the request\n",
    "transform = from_bounds(minx, miny, maxx, maxy, width, height)\n",
    "\n",
    "for i, arr in enumerate(client_responses, start=1):\n",
    "    ndvi, evi, mask = arr[...,0], arr[...,1], arr[...,2]\n",
    "    rows, cols = np.where(mask == 1)\n",
    "    xs, ys = rasterio.transform.xy(transform, rows, cols, offset='center')\n",
    "    for x, y, n, e in zip(xs, ys, ndvi[rows, cols], evi[rows, cols]):\n",
    "        records.append(\n",
    "            dict(lon=x, lat=y, ndvi=n, evi=e,\n",
    "                 week=i, cloud=0,         # 0 = clear\n",
    "                 id=None)                 # fill later via spatial join\n",
    "        )\n",
    "\n",
    "df = pd.DataFrame(records)"
   ]
  },
  {
   "cell_type": "code",
   "execution_count": 43,
   "id": "71b7084f",
   "metadata": {},
   "outputs": [],
   "source": [
    "df_points = gpd.GeoDataFrame(\n",
    "    df, geometry=gpd.points_from_xy(df.lon, df.lat), crs=\"EPSG:4326\"\n",
    ")\n",
    "df_joined = gpd.sjoin(df_points, field_gdf[[\"fid\",\"geometry\"]], how=\"left\")\n",
    "df_joined.rename(columns={\"fid\":\"id\"}, inplace=True)\n"
   ]
  },
  {
   "cell_type": "code",
   "execution_count": 44,
   "id": "9a442ad7",
   "metadata": {},
   "outputs": [],
   "source": [
    "expected = [\n",
    "    \"id\",\"lon\",\"lat\",\"ndvi\",\"evi\",   # add more indices later\n",
    "    \"cloud\",\"week\"\n",
    "]\n",
    "df_final = df_joined[expected].round(6)\n",
    "df_final.to_csv(\"banana_vi_timeseries.csv\", index=False)\n"
   ]
  },
  {
   "cell_type": "code",
   "execution_count": 45,
   "id": "43666309",
   "metadata": {},
   "outputs": [
    {
     "name": "stdout",
     "output_type": "stream",
     "text": [
      "Saved sentinel2_allbands_week_1.tif\n",
      "Saved sentinel2_allbands_week_2.tif\n",
      "Saved sentinel2_allbands_week_3.tif\n",
      "Saved sentinel2_allbands_week_4.tif\n",
      "Saved sentinel2_allbands_week_5.tif\n",
      "Saved sentinel2_allbands_week_6.tif\n",
      "Saved sentinel2_allbands_week_7.tif\n",
      "Saved sentinel2_allbands_week_8.tif\n",
      "Saved sentinel2_allbands_week_9.tif\n",
      "Saved sentinel2_allbands_week_10.tif\n",
      "Saved sentinel2_allbands_week_11.tif\n",
      "Saved sentinel2_allbands_week_12.tif\n",
      "Saved sentinel2_allbands_week_13.tif\n",
      "Saved sentinel2_allbands_week_14.tif\n",
      "Saved sentinel2_allbands_week_15.tif\n",
      "Saved sentinel2_allbands_week_16.tif\n",
      "Saved sentinel2_allbands_week_17.tif\n",
      "Saved sentinel2_allbands_week_18.tif\n",
      "Saved sentinel2_allbands_week_19.tif\n",
      "Saved sentinel2_allbands_week_20.tif\n",
      "Saved sentinel2_allbands_week_21.tif\n",
      "Saved sentinel2_allbands_week_22.tif\n",
      "Saved sentinel2_allbands_week_23.tif\n",
      "Saved sentinel2_allbands_week_24.tif\n",
      "Saved sentinel2_allbands_week_25.tif\n",
      "Saved sentinel2_allbands_week_26.tif\n",
      "Saved sentinel2_allbands_week_27.tif\n",
      "Saved sentinel2_allbands_week_28.tif\n",
      "Saved sentinel2_allbands_week_29.tif\n",
      "Saved sentinel2_allbands_week_30.tif\n",
      "Saved sentinel2_allbands_week_31.tif\n",
      "Saved sentinel2_allbands_week_32.tif\n",
      "Saved sentinel2_allbands_week_33.tif\n",
      "Saved sentinel2_allbands_week_34.tif\n",
      "Saved sentinel2_allbands_week_35.tif\n",
      "Saved sentinel2_allbands_week_36.tif\n",
      "Saved sentinel2_allbands_week_37.tif\n",
      "Saved sentinel2_allbands_week_38.tif\n",
      "Saved sentinel2_allbands_week_39.tif\n",
      "Saved sentinel2_allbands_week_40.tif\n",
      "Saved sentinel2_allbands_week_41.tif\n",
      "Saved sentinel2_allbands_week_42.tif\n",
      "Saved sentinel2_allbands_week_43.tif\n",
      "Saved sentinel2_allbands_week_44.tif\n",
      "Saved sentinel2_allbands_week_45.tif\n",
      "Saved sentinel2_allbands_week_46.tif\n",
      "Saved sentinel2_allbands_week_47.tif\n",
      "Saved sentinel2_allbands_week_48.tif\n",
      "Saved sentinel2_allbands_week_49.tif\n",
      "Saved sentinel2_allbands_week_50.tif\n",
      "Saved sentinel2_allbands_week_51.tif\n",
      "Saved sentinel2_allbands_week_52.tif\n"
     ]
    }
   ],
   "source": [
    "# Save all bands as GeoTIFFs\n",
    "import rasterio\n",
    "from rasterio.transform import from_bounds\n",
    "\n",
    "minx, miny, maxx, maxy = aoi_geom.bbox\n",
    "transform = from_bounds(minx, miny, maxx, maxy, width, height)\n",
    "crs = \"EPSG:4326\"\n",
    "band_names = [\n",
    "    \"B01\",\"B02\",\"B03\",\"B04\",\"B05\",\"B06\",\"B07\",\"B08\",\"B8A\",\"B09\",\"B11\",\"B12\",\"dataMask\"\n",
    "]\n",
    "\n",
    "for i, arr in enumerate(client_responses_all_bands, start=1):\n",
    "    out_path = f\"sentinel2_allbands_week_{i}.tif\"\n",
    "    with rasterio.open(\n",
    "        out_path,\n",
    "        \"w\",\n",
    "        driver=\"GTiff\",\n",
    "        height=arr.shape[0],\n",
    "        width=arr.shape[1],\n",
    "        count=arr.shape[2],\n",
    "        dtype=arr.dtype,\n",
    "        crs=crs,\n",
    "        transform=transform,\n",
    "    ) as dst:\n",
    "        for band in range(arr.shape[2]):\n",
    "            dst.write(arr[..., band], band + 1)\n",
    "        dst.set_band_description(band + 1, band_names[band])\n",
    "    print(f\"Saved {out_path}\")"
   ]
  }
 ],
 "metadata": {
  "kernelspec": {
   "display_name": "timeseries",
   "language": "python",
   "name": "python3"
  },
  "language_info": {
   "codemirror_mode": {
    "name": "ipython",
    "version": 3
   },
   "file_extension": ".py",
   "mimetype": "text/x-python",
   "name": "python",
   "nbconvert_exporter": "python",
   "pygments_lexer": "ipython3",
   "version": "3.10.16"
  }
 },
 "nbformat": 4,
 "nbformat_minor": 5
}
